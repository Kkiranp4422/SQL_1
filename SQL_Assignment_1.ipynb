{
 "cells": [
  {
   "cell_type": "raw",
   "id": "da06c8d1",
   "metadata": {},
   "source": [
    "\n",
    "SQL Assignment -1\n",
    "\n",
    "Instructions\n",
    "\n",
    "create a SQLITE database or use an existing database and create a table in the database called \"Ages\":\n",
    "CREATE TABLE Ages (\n",
    "  name VARCHAR(128),\n",
    "  age INTEGER\n",
    ")\n",
    "\n",
    "Then make sure the table is empty by deleting any rows that you previously inserted, and insert these rows and only these rows with the following commands:\n",
    "\n",
    "DELETE FROM Ages;\n",
    "INSERT INTO Ages (name, age) VALUES ('Mara', 28);\n",
    "INSERT INTO Ages (name, age) VALUES ('Otto', 33);\n",
    "INSERT INTO Ages (name, age) VALUES ('Fyn', 31);\n",
    "INSERT INTO Ages (name, age) VALUES ('Neshawn', 17);\n",
    "\n",
    "Once the inserts are done, run the following SQL command:\n",
    "SELECT hex(name || age) AS X FROM Ages ORDER BY X\n",
    "\n",
    "Find the first row in the resulting record set and enter the long string that looks like 53656C696E613333.\n",
    "Answer ==> The first row in the resulting record set : 46796E3331\n"
   ]
  },
  {
   "cell_type": "code",
   "execution_count": null,
   "id": "116cf3d0",
   "metadata": {},
   "outputs": [],
   "source": []
  },
  {
   "cell_type": "code",
   "execution_count": 2,
   "id": "8851c974",
   "metadata": {},
   "outputs": [],
   "source": [
    "\n",
    "\n",
    "import sqlite3"
   ]
  },
  {
   "cell_type": "code",
   "execution_count": 16,
   "id": "38f8d034",
   "metadata": {},
   "outputs": [],
   "source": [
    "#Command to create table\n",
    "create_table= \"\"\"\n",
    "CREATE TABLE Ages (name VARCHAR(128),age INTEGER\n",
    ");\"\"\"\n"
   ]
  },
  {
   "cell_type": "code",
   "execution_count": 17,
   "id": "c557586f",
   "metadata": {},
   "outputs": [
    {
     "data": {
      "text/plain": [
       "<sqlite3.Cursor at 0x276a5256940>"
      ]
     },
     "execution_count": 17,
     "metadata": {},
     "output_type": "execute_result"
    }
   ],
   "source": [
    "executeSQL = sqlite3.connect('SQLITE.db') \n",
    "cur = executeSQL.cursor() \n",
    "cur.execute(create_table) "
   ]
  },
  {
   "cell_type": "code",
   "execution_count": 21,
   "id": "010f52b9",
   "metadata": {},
   "outputs": [
    {
     "data": {
      "text/plain": [
       "<sqlite3.Cursor at 0x276a5256940>"
      ]
     },
     "execution_count": 21,
     "metadata": {},
     "output_type": "execute_result"
    }
   ],
   "source": [
    "cur.execute('delete from Ages ')"
   ]
  },
  {
   "cell_type": "code",
   "execution_count": 25,
   "id": "ad971d2b",
   "metadata": {},
   "outputs": [
    {
     "data": {
      "text/plain": [
       "<sqlite3.Cursor at 0x276a5256940>"
      ]
     },
     "execution_count": 25,
     "metadata": {},
     "output_type": "execute_result"
    }
   ],
   "source": [
    " cur.executemany(\"Insert into Ages values(?,?)\",[('Mara', 28), \n",
    "            ('Otto', 33),\n",
    "            ('Fyn', 31),\n",
    "            ('Neshawn', 17)])\n"
   ]
  },
  {
   "cell_type": "code",
   "execution_count": 76,
   "id": "52c2785b",
   "metadata": {},
   "outputs": [
    {
     "data": {
      "text/plain": [
       "<sqlite3.Cursor at 0x276a5265740>"
      ]
     },
     "execution_count": 76,
     "metadata": {},
     "output_type": "execute_result"
    }
   ],
   "source": [
    "\n",
    "# cur.execute('''INSERT INTO Ages (name, age) VALUES ('Mara', 28)''')\n",
    "# cur.execute('''INSERT INTO Ages (name, age) VALUES ('Otto', 33)''')\n",
    "# cur.execute('''INSERT INTO Ages (name, age) VALUES ('Fyn', 31)''')\n",
    "# cur.execute('''INSERT INTO Ages (name, age) VALUES ('Neshawn', 17)''')"
   ]
  },
  {
   "cell_type": "code",
   "execution_count": 26,
   "id": "9872033d",
   "metadata": {},
   "outputs": [
    {
     "data": {
      "text/plain": [
       "<sqlite3.Cursor at 0x276a5256940>"
      ]
     },
     "execution_count": 26,
     "metadata": {},
     "output_type": "execute_result"
    }
   ],
   "source": [
    "SQL_query = cur.execute('select * from Ages')\n",
    "SQL_query\n",
    "\n",
    "\n",
    "# get_data='select * from Ages'\n",
    "# SQL_query=cur.execute(get_data)\n",
    "# SQL_query\n"
   ]
  },
  {
   "cell_type": "code",
   "execution_count": 27,
   "id": "acc70555",
   "metadata": {},
   "outputs": [
    {
     "data": {
      "text/plain": [
       "[('Mara', 28), ('Otto', 33), ('Fyn', 31), ('Neshawn', 17)]"
      ]
     },
     "execution_count": 27,
     "metadata": {},
     "output_type": "execute_result"
    }
   ],
   "source": [
    "Result=SQL_query.fetchall()\n",
    "Result"
   ]
  },
  {
   "cell_type": "code",
   "execution_count": 31,
   "id": "9a8de5e3",
   "metadata": {},
   "outputs": [
    {
     "data": {
      "text/plain": [
       "[('46796E3331',),\n",
       " ('4D6172613238',),\n",
       " ('4E65736861776E3137',),\n",
       " ('4F74746F3333',)]"
      ]
     },
     "execution_count": 31,
     "metadata": {},
     "output_type": "execute_result"
    }
   ],
   "source": [
    "cur.execute('SELECT hex(name || age) AS X FROM Ages ORDER BY X').fetchall()"
   ]
  },
  {
   "cell_type": "code",
   "execution_count": 124,
   "id": "f152cf32",
   "metadata": {},
   "outputs": [],
   "source": [
    "#first row as our Output\n",
    "first_row = cur.execute('SELECT hex(name || age) AS X FROM Ages ORDER BY X').fetchone()"
   ]
  },
  {
   "cell_type": "code",
   "execution_count": 129,
   "id": "aa37c7e5",
   "metadata": {},
   "outputs": [
    {
     "name": "stdout",
     "output_type": "stream",
     "text": [
      "The first row in the resulting record set :  46796E3331\n"
     ]
    }
   ],
   "source": [
    "print(\"The first row in the resulting record set : \",first_row[0])"
   ]
  },
  {
   "cell_type": "code",
   "execution_count": null,
   "id": "1add9030",
   "metadata": {},
   "outputs": [],
   "source": []
  },
  {
   "cell_type": "code",
   "execution_count": null,
   "id": "771bf71b",
   "metadata": {},
   "outputs": [],
   "source": []
  },
  {
   "cell_type": "code",
   "execution_count": null,
   "id": "ddbf0212",
   "metadata": {},
   "outputs": [],
   "source": []
  },
  {
   "cell_type": "code",
   "execution_count": null,
   "id": "e387b7dd",
   "metadata": {},
   "outputs": [],
   "source": []
  }
 ],
 "metadata": {
  "kernelspec": {
   "display_name": "Python 3 (ipykernel)",
   "language": "python",
   "name": "python3"
  },
  "language_info": {
   "codemirror_mode": {
    "name": "ipython",
    "version": 3
   },
   "file_extension": ".py",
   "mimetype": "text/x-python",
   "name": "python",
   "nbconvert_exporter": "python",
   "pygments_lexer": "ipython3",
   "version": "3.10.9"
  }
 },
 "nbformat": 4,
 "nbformat_minor": 5
}
